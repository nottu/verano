{
 "cells": [
  {
   "cell_type": "markdown",
   "metadata": {},
   "source": [
    "# Clasificación y agrupación de Radio Galaxias\n",
    "\n",
    "En el problema de clasificación y agrupación de radio galaxias nos topamos con problemas que también existen cuando se utilizan imágenes de otros tipos, principalmente es generar un algoritmo que nos permita analizar las imágenes de una forma invariante a rotación, translación e idealmente a escalas.\n",
    "\n",
    "En los papers leidos pudimos ver que Self Organizing Maps (SOM) tiene cierta popularidad en el area de agrupación de radio galaxias. Para evitar problemas por translación, todas las imágenes están centradas sobre la fuente emisora. El problema de rotación es algo más complejo, pero se toma un camino considerablemente sencillo y computacionalmente pesado, generar rotaciones de las imágenes originales. En Galvin et al generan imagenes de ratación de 1, obteniendo así 360 imágenes, teniendo estas imágenes se utilizan distancias Euclidianas para el SOM, tomando las distancias menores entre los grupos de 360 imágenes, es decir, por cada dato se usan 360 imágenes para los calculos. Como pudimos ver en Polsterer et al, este proceso puede ser muy tardado, especialmente si no se paraleliza de manera adecuada.\n",
    "\n",
    "El otro camino seguido, propuesto en Ralph et al, introduce una red neuronal convolucionada como Auto-Encoder, de esta forma pasamos los datos a un espacio más simple, al igual que Galvin, se utilizan imágenes rotadas, pero en este caso se usan rotaciones aleatorias, de esta forma usan menos imágenes que Galvin, pero se obtienen los beneficios. Despues de entrenar la red neuronal se hace un SOM con los datos codificados, el SOM es muchó más rápido, ya que maneja mucho menos datos, pero el entrenamiento de la Red Neuronal es algo tardado."
   ]
  },
  {
   "cell_type": "markdown",
   "metadata": {},
   "source": [
    "## Propuestas\n",
    "\n",
    "Nos gustaría generar un nuevo algorimo que nos permita agrupar las radio galaxias que sea invariante a rotación, a su vez nos gustaría algo más sencillo que rotar las imágenes un grado, creando un conjuto de datos considerablemente más grande que el original. Actualmente tenemos dos opciones.\n",
    "\n",
    "### Cambio de métrica de distancia\n",
    "Tanto Galvin como Ralph usan la distancia Euclidiana para realizar SOM, el problema con esta métrica es que es sensible a translación y rotación, pero existen otras métricas que nos podrían ser útiles. \n",
    "\n",
    "#### Procrustes Shape Distance\n",
    " Para esta métrica comenzamos buscando la imágen promedio, y rotamos todas las demás imágenes de tal forma que minimizamos la distancia euclediana entre ellas y la imágen promedio. Este proceso se repite hasta que la imágen promedio no cambie. \n",
    " Lamentablemente este proceso podría llegar a ser muy tardado y no nos daría una ventaja sobre los algoritmos ya existentes, sin embargo podríamos utilizar un subconjuto de los datos para generar la imágen promedio y rotar el resto de los datos usando esta imágen promedio. Teniendo todas las imágenes rotadas podemos usar SOM o algún otro método que nos permita vizualizar, como ISOMAP, K-Means, etc.\n",
    " \n",
    "### Análisis Morfológico\n",
    "\n",
    "Si logramos extraer información invariente a rotación y translación de nuestras imágenes, podríamos el análisis sólo sobre esta información, de esta forma no necesitaríamos rotar las imagenes lo cual posiblemente nos ahorraría tiempo.\n",
    "\n",
    "Una forma de obtener algo de información invariante bajo transalación y rotación es tomar un elemento estructurante circular, conservar el area sobre la cual este cabe y comprarar los cambios de area, esta operación es equivalente a un Opening morfológico, podemos tomar diferentes tamaños y así obtener bastante información.\n",
    "\n",
    "Otra opción sería tomar el elemento estructurante y pasarlo sobre el contorno de la forma, de esta forma agrandando la forma. Tambíen podríamos usar ambas técnicas en conjunto, obteniendo así más información."
   ]
  },
  {
   "cell_type": "markdown",
   "metadata": {},
   "source": [
    "#### Ejemplos\n",
    "En los siguentes ejemplos usaremos el conjunto de datos MNIST ya que estos son más fáciles de manejar y las categorías son facilmente distinguibles"
   ]
  },
  {
   "cell_type": "code",
   "execution_count": 25,
   "metadata": {},
   "outputs": [
    {
     "data": {
      "image/png": "[encoded data removed]",
      "text/plain": [
       "<matplotlib.figure.Figure at 0x1c2de105c0>"
      ]
     },
     "metadata": {},
     "output_type": "display_data"
    }
   ],
   "source": [
    "from keras.datasets import mnist #usamos keras para descargar MNIST\n",
    "import matplotlib.pyplot as plt #matplotlib para graficar\n",
    "(x_train, y_train), (x_test, y_test) = mnist.load_data()\n",
    "im1 = x_train[0] > 50\n",
    "plt.imshow(im1, cmap='gray') #umbral fijo para el ejemplo\n",
    "plt.show()"
   ]
  },
  {
   "cell_type": "code",
   "execution_count": 81,
   "metadata": {
    "scrolled": true
   },
   "outputs": [
    {
     "data": {
      "image/png": "[encoded data removed]",
      "text/plain": [
       "<matplotlib.figure.Figure at 0x1821496198>"
      ]
     },
     "metadata": {},
     "output_type": "display_data"
    }
   ],
   "source": [
    "import skimage.morphology as morpho\n",
    "f, ax = plt.subplots(1, 4, figsize=(12,15))\n",
    "ax[0].imshow(im1, cmap='gray') #umbral fijo para el ejemplo\n",
    "ax[0].set_title('Original')\n",
    "for i in range(1, 4):\n",
    "    d1 = morpho.disk(i)\n",
    "    imo = morpho.opening(im1, d1)\n",
    "    ax[i].imshow(imo, cmap='gray')\n",
    "    st = 'Disco ' + str(i)\n",
    "    ax[i].set_title(st)\n",
    "plt.show()"
   ]
  },
  {
   "cell_type": "code",
   "execution_count": 85,
   "metadata": {},
   "outputs": [
    {
     "data": {
      "image/png": "[encoded data removed]",
      "text/plain": [
       "<matplotlib.figure.Figure at 0x10e6ddcc0>"
      ]
     },
     "metadata": {},
     "output_type": "display_data"
    }
   ],
   "source": [
    "import skimage.morphology as morpho\n",
    "f, ax = plt.subplots(1, 4, figsize=(12,15))\n",
    "ax[0].imshow(im1, cmap='gray') #umbral fijo para el ejemplo\n",
    "ax[0].set_title('Original')\n",
    "for i in range(1, 4):\n",
    "    d1 = morpho.disk(i)\n",
    "    imo = morpho.dilation(im1, d1)\n",
    "    ax[i].imshow(imo, cmap='gray')\n",
    "    st = 'Disco ' + str(i)\n",
    "    ax[i].set_title(st)\n",
    "plt.show()"
   ]
  },
  {
   "cell_type": "markdown",
   "metadata": {},
   "source": []
  },
  {
   "cell_type": "code",
   "execution_count": null,
   "metadata": {},
   "outputs": [],
   "source": []
  },
  {
   "cell_type": "code",
   "execution_count": null,
   "metadata": {},
   "outputs": [],
   "source": []
  },
  {
   "cell_type": "code",
   "execution_count": null,
   "metadata": {},
   "outputs": [],
   "source": []
  }
 ],
 "metadata": {
  "kernelspec": {
   "display_name": "Python 3",
   "language": "python",
   "name": "python3"
  },
  "language_info": {
   "codemirror_mode": {
    "name": "ipython",
    "version": 3
   },
   "file_extension": ".py",
   "mimetype": "text/x-python",
   "name": "python",
   "nbconvert_exporter": "python",
   "pygments_lexer": "ipython3",
   "version": "3.6.4"
  }
 },
 "nbformat": 4,
 "nbformat_minor": 2
}
