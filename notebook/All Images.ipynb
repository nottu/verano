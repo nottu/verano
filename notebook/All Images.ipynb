{
 "cells": [
  {
   "cell_type": "code",
   "execution_count": 1,
   "metadata": {},
   "outputs": [],
   "source": [
    "%run radiomorpho.py"
   ]
  },
  {
   "cell_type": "code",
   "execution_count": 2,
   "metadata": {},
   "outputs": [
    {
     "name": "stdout",
     "output_type": "stream",
     "text": [
      "error reading image 101first_fit/J0331-2849_z1.0890p_1.09Mpc.fi.fit or 101nvss_fit/J0331-2849_z1.0890p_1.09Mpc.nv.fit\n"
     ]
    }
   ],
   "source": [
    "dirs = ('101first_fit', '101nvss_fit')\n",
    "files, images = readImagesFromDirs(dirs)"
   ]
  },
  {
   "cell_type": "code",
   "execution_count": 24,
   "metadata": {
    "scrolled": false
   },
   "outputs": [],
   "source": [
    "nimg = len(images)\n",
    "f, ax = plt.subplots(nimg, 3, figsize=(15, nimg * 5))\n",
    "for i in range(nimg):\n",
    "    ax[i][0].axis('off')\n",
    "    ax[i][1].axis('off')\n",
    "    ax[i][2].axis('off')\n",
    "    ax[i][0].set_title('FIRST {}'.format(i))\n",
    "    ax[i][1].set_title('NVSS {}'.format(i))\n",
    "    ax[i][2].set_title('FIRST + NVSS')\n",
    "    ax[i][0].imshow(images[:,0][i])\n",
    "    ax[i][1].imshow(images[:,1][i])\n",
    "    ax[i][2].imshow(images[:,2][i])\n",
    "plt.show()"
   ]
  },
  {
   "cell_type": "code",
   "execution_count": null,
   "metadata": {},
   "outputs": [],
   "source": []
  },
  {
   "cell_type": "code",
   "execution_count": null,
   "metadata": {},
   "outputs": [],
   "source": []
  }
 ],
 "metadata": {
  "kernelspec": {
   "display_name": "Python 3",
   "language": "python",
   "name": "python3"
  },
  "language_info": {
   "codemirror_mode": {
    "name": "ipython",
    "version": 3
   },
   "file_extension": ".py",
   "mimetype": "text/x-python",
   "name": "python",
   "nbconvert_exporter": "python",
   "pygments_lexer": "ipython3",
   "version": "3.6.5"
  }
 },
 "nbformat": 4,
 "nbformat_minor": 2
}
